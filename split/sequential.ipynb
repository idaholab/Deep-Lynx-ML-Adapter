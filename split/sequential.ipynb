{
 "cells": [
  {
   "cell_type": "code",
   "execution_count": 1,
   "metadata": {},
   "outputs": [
    {
     "name": "stdout",
     "output_type": "stream",
     "text": [
      "Requirement already satisfied: python-dotenv in /Users/wilskn/miniconda3/lib/python3.8/site-packages (0.18.0)\r\n"
     ]
    }
   ],
   "source": [
    "import pandas as pd \n",
    "import json\n",
    "import os\n",
    "import re\n",
    "from sklearn.model_selection import train_test_split\n",
    "\n",
    "\n",
    "# Change working directory if not the project directory\n",
    "current_dir = os.getcwd()\n",
    "folders = re.split('\\/', current_dir)\n",
    "if folders[len(folders)-1] == 'split':\n",
    "    os.chdir(os.path.abspath(os.path.join('..')))\n",
    "\n",
    "# Load environment variables from .env file    \n",
    "!pip install python-dotenv\n",
    "%load_ext dotenv\n",
    "%dotenv\n",
    "import settings\n",
    "#%pwd"
   ]
  },
  {
   "cell_type": "code",
   "execution_count": 2,
   "metadata": {},
   "outputs": [],
   "source": [
    "with open(os.getenv(\"ML_ADAPTER_DATA\"), 'r') as fp:\n",
    "    data = json.load(fp)"
   ]
  },
  {
   "cell_type": "code",
   "execution_count": 3,
   "metadata": {},
   "outputs": [],
   "source": [
    "# Get the dataset\n",
    "split_file = data[\"DATASET\"]\n",
    "X = pd.read_csv(split_file)"
   ]
  },
  {
   "cell_type": "code",
   "execution_count": 4,
   "metadata": {},
   "outputs": [],
   "source": [
    "# Split into training and testing sets\n",
    "split_methods = json.loads(os.getenv(\"SPLIT\"))\n",
    "train = X.iloc[:split_methods['sequential']['N'], :]\n",
    "if isinstance(split_methods['sequential']['test_size'], int):\n",
    "    start = split_methods['sequential']['N']\n",
    "    end = split_methods['sequential']['N']+ split_methods['sequential']['test_size']\n",
    "    test = X.iloc[start:end, :]\n",
    "elif isinstance(split_methods['sequential']['test_size'], float):\n",
    "    start = split_methods['sequential']['N']\n",
    "    end = split_methods['sequential']['N'] + (split_methods['sequential']['N']*split_methods['sequential']['test_size'])\n",
    "    test = X.iloc[start:end, :]"
   ]
  },
  {
   "cell_type": "code",
   "execution_count": 5,
   "metadata": {},
   "outputs": [],
   "source": [
    "# Write the training and testing sets to files\n",
    "train.to_csv('data/training_set.csv')\n",
    "test.to_csv('data/testing_set.csv')"
   ]
  },
  {
   "cell_type": "code",
   "execution_count": null,
   "metadata": {},
   "outputs": [],
   "source": []
  }
 ],
 "metadata": {
  "kernelspec": {
   "display_name": "Python 3 (ipykernel)",
   "language": "python",
   "name": "python3"
  },
  "language_info": {
   "codemirror_mode": {
    "name": "ipython",
    "version": 3
   },
   "file_extension": ".py",
   "mimetype": "text/x-python",
   "name": "python",
   "nbconvert_exporter": "python",
   "pygments_lexer": "ipython3",
   "version": "3.8.12"
  }
 },
 "nbformat": 4,
 "nbformat_minor": 4
}
