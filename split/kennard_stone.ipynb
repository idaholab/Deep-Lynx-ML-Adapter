{
 "cells": [
  {
   "cell_type": "code",
   "execution_count": 1,
   "metadata": {},
   "outputs": [
    {
     "name": "stderr",
     "output_type": "stream",
     "text": [
      "prospectr version 0.2.1 -- 'seville'\n",
      "\n",
      "check the github repository at: http://github.com/l-ramirez-lopez/prospectr\n",
      "\n"
     ]
    }
   ],
   "source": [
    "library(prospectr)\n",
    "library(reticulate)\n",
    "library(dotenv)\n",
    "library(jsonlite)"
   ]
  },
  {
   "cell_type": "code",
   "execution_count": 2,
   "metadata": {},
   "outputs": [],
   "source": [
    "# Split working directory path\n",
    "pwd = getwd()\n",
    "split_path = function(x) if (dirname(x)==x) x else c(basename(x),split_path(dirname(x)))\n",
    "path_list = split_path(pwd)\n",
    "\n",
    "# Change working directory\n",
    "if (path_list[1] == \"split\"){\n",
    "    new_pwd = \"\"\n",
    "    for (i in 3:length(path_list)-1) {\n",
    "        new_pwd = paste(path_list[i], new_pwd, sep=path_list[length(path_list)])  \n",
    "    }\n",
    "    new_pwd = paste(path_list[length(path_list)], new_pwd, sep=\"\")\n",
    "    setwd(new_pwd)\n",
    "}"
   ]
  },
  {
   "cell_type": "code",
   "execution_count": 3,
   "metadata": {},
   "outputs": [],
   "source": [
    "# Load ML Adapter data\n",
    "load_dot_env(file = \".env\")\n",
    "file_path = Sys.getenv(\"ML_ADAPTER_DATA\")\n",
    "data = fromJSON(txt=file_path)"
   ]
  },
  {
   "cell_type": "code",
   "execution_count": 4,
   "metadata": {},
   "outputs": [],
   "source": [
    "# Determine X by reading the .csv file\n",
    "split_file = data$DATASET\n",
    "dataset = read.csv(split_file, check.names=FALSE)\n",
    "#print(dim(dataset))"
   ]
  },
  {
   "cell_type": "code",
   "execution_count": 5,
   "metadata": {},
   "outputs": [],
   "source": [
    "# Filter dataset to contain only numeric columns\n",
    "dataset_numeric = dataset[sapply(dataset, is.numeric)]\n",
    "#print(dim(dataset_numeric))"
   ]
  },
  {
   "cell_type": "code",
   "execution_count": 6,
   "metadata": {},
   "outputs": [],
   "source": [
    "# Determine N and k\n",
    "\n",
    "split_methods = Sys.getenv(\"SPLIT\")\n",
    "split_methods = fromJSON(txt=split_methods)\n",
    "N = split_methods$kennard_stone$N\n",
    "k = split_methods$kennard_stone$k"
   ]
  },
  {
   "cell_type": "code",
   "execution_count": 7,
   "metadata": {},
   "outputs": [],
   "source": [
    "# Take a sample of the dataset\n",
    "if (nrow(dataset_numeric) > N){\n",
    "    set.seed(10000)\n",
    "    X = dataset_numeric[sample(nrow(dataset_numeric), N),]\n",
    "    set.seed(10000)\n",
    "    X_full = dataset[sample(nrow(dataset), N),]\n",
    "} else{\n",
    "    X = dataset_numeric\n",
    "}  \n",
    "#print(dim(X))"
   ]
  },
  {
   "cell_type": "code",
   "execution_count": 8,
   "metadata": {},
   "outputs": [],
   "source": [
    "# Determine k proportionately if N is greater than the rows of X.\n",
    "if (N > nrow(X)){\n",
    "    fraction = k / N\n",
    "    k = ceiling(nrow(X) * fraction)\n",
    "    #print(fraction)\n",
    "    #print(k)\n",
    "}"
   ]
  },
  {
   "cell_type": "code",
   "execution_count": 9,
   "metadata": {},
   "outputs": [],
   "source": [
    "# Run kennard stone algorithm\n",
    "start_time <- Sys.time()\n",
    "selection = kenStone(X, k=k, metric = \"euclid\")\n",
    "end_time = Sys.time()\n",
    "#print(end_time - start_time)"
   ]
  },
  {
   "cell_type": "code",
   "execution_count": 10,
   "metadata": {},
   "outputs": [],
   "source": [
    "# Get training and testing file paths\n",
    "pwd = getwd()\n",
    "split_path = function(x) if (dirname(x)==x) x else c(basename(x),split_path(dirname(x)))\n",
    "path_list = split_path(pwd)\n",
    "training_path = paste(pwd, \"data\", \"train.csv\", sep=path_list[length(path_list)])\n",
    "testing_path = paste(pwd, \"data\", \"test.csv\", sep=path_list[length(path_list)])\n",
    "\n",
    "# Write training and testing sets to a csv file\n",
    "write.csv(x=X_full[selection$model,], file=training_path, row.names=FALSE)\n",
    "write.csv(x=X_full[selection$test,], file=testing_path, row.names=FALSE)"
   ]
  },
  {
   "cell_type": "code",
   "execution_count": null,
   "metadata": {},
   "outputs": [],
   "source": []
  }
 ],
 "metadata": {
  "kernelspec": {
   "display_name": "R",
   "language": "R",
   "name": "ir"
  },
  "language_info": {
   "codemirror_mode": "r",
   "file_extension": ".r",
   "mimetype": "text/x-r-source",
   "name": "R",
   "pygments_lexer": "r",
   "version": "3.6.3"
  }
 },
 "nbformat": 4,
 "nbformat_minor": 5
}
